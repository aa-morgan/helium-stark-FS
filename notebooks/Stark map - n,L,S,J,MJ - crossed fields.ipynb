{
 "cells": [
  {
   "cell_type": "markdown",
   "metadata": {},
   "source": [
    "This notebook reproduces \n",
    "\n",
    "> **Fig 11**: Stark states of $n=30$ and 31 states of Ps, with $m=2$ (grey dashed) and $m=29$ (black). In the $n=30$ level, the $m=29$ state is a circular state and experiences no first-order Stark shift and only a very weak second-order shift, as explained in the text.\n",
    "\n",
    "from the article\n",
    "\n",
    "> #### Prospects for Studies of the Free Fall and Gravitational Quantum States of Antimatter\n",
    ">\n",
    "> G. Dufour, D. B. Cassidy, P. Crivelli, P. Debu, A. Lambrecht, V. V. Nesvizhevsky, S. Reynaud, A. Yu. Voronin, and T. E. Wall.\n",
    ">\n",
    "> *Adv. High En. Phys.*, **2015**, 379642 (2015) [DOI:10.1155/2015/379642](https://dx.doi.org/10.1155/2015/379642)\n",
    "\n",
    "This article uses an $|\\, n \\, l \\, m_l \\, \\rangle$ basis and plots the Stark structure for $m_l=2$ and $m_l=29$.\n",
    "\n",
    "The calculation below uses an $|\\, n \\, l \\, S \\, J \\, M_J \\, \\rangle$ basis with $S=0$ and plots Stark structure for $M_J = 2$ and $M_J=29$."
   ]
  },
  {
   "cell_type": "code",
   "execution_count": 1,
   "metadata": {
    "collapsed": true
   },
   "outputs": [],
   "source": [
    "# packages\n",
    "import os\n",
    "from functools import reduce\n",
    "from hsfs import Hamiltonian, En_h, h, c, constants_info, ang_overlap, rad_overlap, mu_me\n",
    "import numpy as np\n",
    "import matplotlib.pyplot as plt\n",
    "import matplotlib as mpl\n",
    "%matplotlib inline\n",
    "mpl.rcParams['axes.formatter.useoffset'] = False"
   ]
  },
  {
   "cell_type": "markdown",
   "metadata": {},
   "source": [
    "# Crossed fields, $n=5-6$"
   ]
  },
  {
   "cell_type": "code",
   "execution_count": 2,
   "metadata": {},
   "outputs": [
    {
     "name": "stdout",
     "output_type": "stream",
     "text": [
      "Number of basis states: 183\n",
      "Number of basis states: 183\n"
     ]
    }
   ],
   "source": [
    "n_min = 5\n",
    "n_max = 6\n",
    "S = 1\n",
    "# construct matrix\n",
    "mat0 = Hamiltonian(n_min=n_min, n_max=n_max, S=S, MJ=None)\n",
    "print('Number of basis states:', '%d'%mat0.num_states)\n",
    "mat1 = Hamiltonian(n_min=n_min, n_max=n_max, S=S, MJ=None)\n",
    "print('Number of basis states:', '%d'%mat1.num_states)"
   ]
  },
  {
   "cell_type": "code",
   "execution_count": 3,
   "metadata": {},
   "outputs": [
    {
     "name": "stderr",
     "output_type": "stream",
     "text": [
      "\r",
      "calculate Stark terms:   0%|          | 0/183 [00:00<?, ?it/s]"
     ]
    },
    {
     "name": "stdout",
     "output_type": "stream",
     "text": [
      "Using field orientation: perpendicular\n"
     ]
    },
    {
     "name": "stderr",
     "output_type": "stream",
     "text": [
      "calculate Stark terms: 100%|██████████| 183/183 [00:07<00:00, 24.63it/s]\n",
      "diagonalise Hamiltonian:   9%|▉         | 28/301 [00:00<00:00, 279.92it/s]"
     ]
    },
    {
     "name": "stdout",
     "output_type": "stream",
     "text": [
      "mat_s sum:  -76.7188574543\n"
     ]
    },
    {
     "name": "stderr",
     "output_type": "stream",
     "text": [
      "diagonalise Hamiltonian: 100%|██████████| 301/301 [00:00<00:00, 491.24it/s]\n",
      "calculate singlet-triplet coupling terms: 100%|██████████| 183/183 [00:00<00:00, 5226.07it/s]\n",
      "calculate Stark terms:   3%|▎         | 5/183 [00:00<00:04, 40.84it/s]"
     ]
    },
    {
     "name": "stdout",
     "output_type": "stream",
     "text": [
      "Using field orientation: perpendicular\n",
      "Using Singlet-Triplet coupling\n",
      "H_spin sum:  0.0\n"
     ]
    },
    {
     "name": "stderr",
     "output_type": "stream",
     "text": [
      "calculate Stark terms: 100%|██████████| 183/183 [00:05<00:00, 32.60it/s]\n",
      "diagonalise Hamiltonian:  19%|█▉        | 57/301 [00:00<00:00, 562.46it/s]"
     ]
    },
    {
     "name": "stdout",
     "output_type": "stream",
     "text": [
      "mat_s sum:  -76.7188574543\n"
     ]
    },
    {
     "name": "stderr",
     "output_type": "stream",
     "text": [
      "diagonalise Hamiltonian: 100%|██████████| 301/301 [00:00<00:00, 565.44it/s]\n"
     ]
    }
   ],
   "source": [
    "# calculate Stark map\n",
    "Bfield=0.0\n",
    "Efield_vec=[1.0,0.0,0.0]\n",
    "stark_method='dev3'\n",
    "zeeman_method='hsfs'\n",
    "Efield = np.linspace(3.5*10**5, 6.0*10**5, 301)  # V/cm\n",
    "sm0 = mat0.stark_map(Efield*1e2, Bfield=Bfield, \n",
    "                     stark_method=stark_method,\n",
    "                     zeeman_method=zeeman_method,\n",
    "                     Efield_vec=Efield_vec)\n",
    "sm1 = mat1.stark_map(Efield*1e2, Bfield=Bfield, \n",
    "                     stark_method=stark_method,\n",
    "                     zeeman_method=zeeman_method,\n",
    "                     Efield_vec=Efield_vec,\n",
    "                     singlet_triplet_coupling=True)"
   ]
  },
  {
   "cell_type": "code",
   "execution_count": 4,
   "metadata": {},
   "outputs": [
    {
     "data": {
      "image/png": "[encoded data removed]",
      "text/plain": [
       "<matplotlib.figure.Figure at 0x1105abba8>"
      ]
     },
     "metadata": {},
     "output_type": "display_data"
    }
   ],
   "source": [
    "fig, ax = plt.subplots(figsize=(9, 7))\n",
    "\n",
    "# plot\n",
    "#MJ = 0\n",
    "indexes = range(mat0.num_states)\n",
    "#indexes = mat0.where('J', 11)\n",
    "for ix in indexes:\n",
    "    ax.plot(Efield, sm0[:, ix] / (100*h*c*mu_me), ls='-', lw=1.2, alpha=1, c=(0.2, 0.2, 0.8))\n",
    "#MJ = 1\n",
    "#indexes = range(mat1.num_states)\n",
    "#for ix in indexes:\n",
    "#    ax.plot(Efield, sm1[:, ix] / (100*h*c*mu_me), ls='--', lw=1., alpha=1, c=(0.8, 0.2, 0.2))\n",
    "\n",
    "# format\n",
    "ax.set_xlabel('electric field (V cm$^{-1}$)')\n",
    "ax.set_ylabel('energy / $h c$ (cm$^{-1}$)')\n",
    "ax.set_xlim(3.5*10**5, 6.0*10**5)\n",
    "ax.set_ylim(-4200, -3700)\n",
    "plt.title('Stark map - n,L,S,J,MJ - crossed fields. n=5-6, B=0, S=1')\n",
    "\n",
    "# output\n",
    "plt.grid()\n",
    "plt.tight_layout()"
   ]
  },
  {
   "cell_type": "markdown",
   "metadata": {
    "collapsed": true
   },
   "source": [
    "# Testing "
   ]
  },
  {
   "cell_type": "code",
   "execution_count": 6,
   "metadata": {
    "collapsed": true
   },
   "outputs": [],
   "source": [
    "from sympy.physics.wigner import wigner_3j\n",
    "from arc import *"
   ]
  },
  {
   "cell_type": "markdown",
   "metadata": {},
   "source": [
    "### Parallel"
   ]
  },
  {
   "cell_type": "code",
   "execution_count": 27,
   "metadata": {},
   "outputs": [
    {
     "data": {
      "image/png": "[encoded data removed]",
      "text/plain": [
       "<matplotlib.figure.Figure at 0x1114fdf60>"
      ]
     },
     "metadata": {},
     "output_type": "display_data"
    }
   ],
   "source": [
    "L_1_arr = np.arange(0,3)\n",
    "L_2_arr = np.arange(0,3)\n",
    "q_nums = []\n",
    "ang_ol_1 = []\n",
    "ang_ol_2 = []\n",
    "\n",
    "for L_1 in L_1_arr:\n",
    "    for L_2 in L_2_arr:\n",
    "        for ML_1 in np.arange(-L_1, L_1+1):\n",
    "            for ML_2 in np.arange(-L_2, L_2+1):\n",
    "                q_nums.append([L_1, L_2, ML_1, ML_2])\n",
    "                \n",
    "                ang_ol_1.append(ang_overlap(L_1, L_2, ML_1, ML_2, Efield_vec=[0.0, 0.0, 1.0]))\n",
    "                \n",
    "                delta_L = L_1 - L_2\n",
    "                if abs(delta_L) == 1:\n",
    "                    tmp = []\n",
    "                    for q, tau in zip([0], [1]):\n",
    "                        wigner_tmp = wigner_3j(L_2, 1, L_1, -ML_2, q, ML_1)\n",
    "                        if wigner_tmp != 0.0:\n",
    "                            wigner_tmp = wigner_tmp.evalf()\n",
    "                        tmp.append( tau * wigner_tmp * np.max([L_1, L_2])**0.5)\n",
    "                    ang_ol_2.append((np.sum(tmp)))\n",
    "                else:\n",
    "                    ang_ol_2.append(0.0)\n",
    "                \n",
    "plt.figure(figsize=(8,3))\n",
    "plt.subplot(1,2,1)\n",
    "plt.plot(ang_ol_1, 'o')\n",
    "plt.title('Using ang_overlap()')\n",
    "plt.xlabel('Config')\n",
    "plt.ylabel('Angular overlap')\n",
    "plt.subplot(1,2,2)\n",
    "plt.plot(ang_ol_2, 'o')\n",
    "plt.title('Using Wigner-3J')\n",
    "plt.xlabel('Config')\n",
    "plt.ylabel('Angular overlap')\n",
    "plt.tight_layout()"
   ]
  },
  {
   "cell_type": "code",
   "execution_count": 17,
   "metadata": {},
   "outputs": [
    {
     "name": "stdout",
     "output_type": "stream",
     "text": [
      "L_1, L_2, ML_1, ML_2\n"
     ]
    },
    {
     "data": {
      "text/plain": [
       "array([[ 0,  1,  0,  0],\n",
       "       [ 1,  0,  0,  0],\n",
       "       [ 1,  2, -1, -1],\n",
       "       [ 1,  2,  0,  0],\n",
       "       [ 1,  2,  1,  1],\n",
       "       [ 2,  1, -1, -1],\n",
       "       [ 2,  1,  0,  0],\n",
       "       [ 2,  1,  1,  1]])"
      ]
     },
     "execution_count": 17,
     "metadata": {},
     "output_type": "execute_result"
    }
   ],
   "source": [
    "print(\"L_1, L_2, ML_1, ML_2\")\n",
    "np.array(q_nums)[(np.where(np.array(ang_ol_2)!=0.0)[0])]"
   ]
  },
  {
   "cell_type": "markdown",
   "metadata": {},
   "source": [
    "### Crossed"
   ]
  },
  {
   "cell_type": "code",
   "execution_count": 23,
   "metadata": {},
   "outputs": [
    {
     "data": {
      "image/png": "[encoded data removed]",
      "text/plain": [
       "<matplotlib.figure.Figure at 0x117cef898>"
      ]
     },
     "metadata": {},
     "output_type": "display_data"
    }
   ],
   "source": [
    "L_1_arr = np.arange(0,3)\n",
    "L_2_arr = np.arange(0,3)\n",
    "q_nums = []\n",
    "ang_ol_1 = []\n",
    "ang_ol_2 = []\n",
    "\n",
    "for L_1 in L_1_arr:\n",
    "    for L_2 in L_2_arr:\n",
    "        for ML_1 in np.arange(-L_1, L_1+1):\n",
    "            for ML_2 in np.arange(-L_2, L_2+1):\n",
    "                q_nums.append([L_1, L_2, ML_1, ML_2])\n",
    "                \n",
    "                ang_ol_1.append(ang_overlap(L_1, L_2, ML_1, ML_2, Efield_vec=[1.0, 0.0, 0.0]))\n",
    "                \n",
    "                delta_L = L_1 - L_2\n",
    "                if abs(delta_L) == 1:\n",
    "                    tmp = []\n",
    "                    for q, tau in zip([-1, 1], [(-1/2**0.5), (1/2**0.5)]):\n",
    "                        wigner_tmp = wigner_3j(L_2, 1, L_1, -ML_2, q, ML_1)\n",
    "                        if wigner_tmp != 0.0:\n",
    "                            wigner_tmp = wigner_tmp.evalf()\n",
    "                        tmp.append( tau * wigner_tmp * np.max([L_1, L_2])**0.5)\n",
    "                    ang_ol_2.append((np.sum(tmp)))\n",
    "                else:\n",
    "                    ang_ol_2.append(0.0)\n",
    "                \n",
    "plt.figure(figsize=(8,6))\n",
    "plt.subplot(2,2,1)\n",
    "plt.plot(ang_ol_1, 'o')\n",
    "plt.title('Using ang_overlap()')\n",
    "plt.xlabel('Config')\n",
    "plt.ylabel('Angular overlap')\n",
    "plt.subplot(2,2,2)\n",
    "plt.plot(ang_ol_2, 'o')\n",
    "plt.title('Using Wigner-3J')\n",
    "plt.xlabel('Config')\n",
    "plt.ylabel('Angular overlap')\n",
    "plt.subplot(2,2,3)\n",
    "plt.plot(abs(np.array(ang_ol_1))-abs(np.array(ang_ol_2)), 'o')\n",
    "plt.title('Diff (abs)')\n",
    "plt.xlabel('Config')\n",
    "plt.ylabel('Angular overlap')\n",
    "plt.tight_layout()"
   ]
  },
  {
   "cell_type": "code",
   "execution_count": 75,
   "metadata": {},
   "outputs": [
    {
     "name": "stdout",
     "output_type": "stream",
     "text": [
      "L_1, L_2, ML_1, ML_2\n"
     ]
    },
    {
     "data": {
      "text/plain": [
       "array([[ 0,  1,  0, -1],\n",
       "       [ 0,  1,  0,  1],\n",
       "       [ 1,  0, -1,  0],\n",
       "       [ 1,  0,  1,  0],\n",
       "       [ 1,  2, -1, -2],\n",
       "       [ 1,  2, -1,  0],\n",
       "       [ 1,  2,  0, -1],\n",
       "       [ 1,  2,  0,  1],\n",
       "       [ 1,  2,  1,  0],\n",
       "       [ 1,  2,  1,  2],\n",
       "       [ 2,  1, -2, -1],\n",
       "       [ 2,  1, -1,  0],\n",
       "       [ 2,  1,  0, -1],\n",
       "       [ 2,  1,  0,  1],\n",
       "       [ 2,  1,  1,  0],\n",
       "       [ 2,  1,  2,  1]])"
      ]
     },
     "execution_count": 75,
     "metadata": {},
     "output_type": "execute_result"
    }
   ],
   "source": [
    "print(\"L_1, L_2, ML_1, ML_2\")\n",
    "np.array(q_nums)[(np.where(np.array(ang_ol_2)!=0.0)[0])]"
   ]
  },
  {
   "cell_type": "code",
   "execution_count": 16,
   "metadata": {},
   "outputs": [
    {
     "data": {
      "text/plain": [
       "sqrt(30)/30"
      ]
     },
     "execution_count": 16,
     "metadata": {},
     "output_type": "execute_result"
    }
   ],
   "source": [
    "state_1_L, ML_1 = 1, 1\n",
    "state_2_L, ML_2 = 2, 0\n",
    "q = -1\n",
    "wigner_3j(state_2_L, 1, state_1_L, -ML_2, q, ML_1)"
   ]
  },
  {
   "cell_type": "code",
   "execution_count": 20,
   "metadata": {},
   "outputs": [
    {
     "name": "stdout",
     "output_type": "stream",
     "text": [
      "1.7320508075688772\n",
      "-1.73205080757\n"
     ]
    }
   ],
   "source": [
    "state_1_L = 3\n",
    "state_2_L = 2\n",
    "ML_2 = 1\n",
    "\n",
    "ang_overlap_stark_1 = float(1. * \\\n",
    "                    (-1.)**(ML_2) * \\\n",
    "                    ((2*state_2_L+1)*(2*state_1_L+1))**0.5 * \\\n",
    "                    wigner_3j(state_2_L, 1, state_1_L, 0, 0, 0))\n",
    "                \n",
    "ang_overlap_stark_2 = np.max([state_1_L, state_2_L])**0.5 * \\\n",
    "                        (-1)**(state_2_L-ML_2)\n",
    "\n",
    "print(ang_overlap_stark_1)\n",
    "print(ang_overlap_stark_2)"
   ]
  },
  {
   "cell_type": "code",
   "execution_count": 12,
   "metadata": {
    "collapsed": true
   },
   "outputs": [],
   "source": [
    "from sympy.physics.wigner import wigner_3j, clebsch_gordan"
   ]
  },
  {
   "cell_type": "code",
   "execution_count": 8,
   "metadata": {},
   "outputs": [
    {
     "name": "stdout",
     "output_type": "stream",
     "text": [
      "n,L,S,J,MJ\n",
      "state 1: ❘ 3 0 0 0 0 ⟩  ML: 0\n",
      "state 2: ❘ 3 1 0 1 -1 ⟩  ML: -1\n",
      "1.0 0.0 -0.235702260395516*sqrt(3)\n",
      "----\n",
      "n,L,S,J,MJ\n",
      "state 1: ❘ 3 0 0 0 0 ⟩  ML: 0\n",
      "state 2: ❘ 3 1 0 1 0 ⟩  ML: 0\n",
      "1.0 1.0 0\n",
      "----\n",
      "n,L,S,J,MJ\n",
      "state 1: ❘ 3 0 0 0 0 ⟩  ML: 0\n",
      "state 2: ❘ 3 1 0 1 1 ⟩  ML: 1\n",
      "1.0 0.0 -0.235702260395516*sqrt(3)\n",
      "----\n",
      "n,L,S,J,MJ\n",
      "state 1: ❘ 3 2 0 2 -2 ⟩  ML: -2\n",
      "state 2: ❘ 3 1 0 1 -1 ⟩  ML: -1\n",
      "0.0 0.0 0.0816496580927726*sqrt(30)\n",
      "----\n",
      "n,L,S,J,MJ\n",
      "state 1: ❘ 3 2 0 2 -2 ⟩  ML: -2\n",
      "state 2: ❘ 3 1 0 1 0 ⟩  ML: 0\n",
      "0.0 1.0 0\n",
      "----\n",
      "n,L,S,J,MJ\n",
      "state 1: ❘ 3 2 0 2 -2 ⟩  ML: -2\n",
      "state 2: ❘ 3 1 0 1 1 ⟩  ML: 1\n",
      "0.0 0.0 0\n",
      "----\n",
      "n,L,S,J,MJ\n",
      "state 1: ❘ 3 2 0 2 -1 ⟩  ML: -1\n",
      "state 2: ❘ 3 1 0 1 -1 ⟩  ML: -1\n",
      "0.0 0.0 0\n",
      "----\n",
      "n,L,S,J,MJ\n",
      "state 1: ❘ 3 2 0 2 -1 ⟩  ML: -1\n",
      "state 2: ❘ 3 1 0 1 0 ⟩  ML: 0\n",
      "0.0 1.0 -0.0577350269189626*sqrt(30)\n",
      "----\n",
      "n,L,S,J,MJ\n",
      "state 1: ❘ 3 2 0 2 -1 ⟩  ML: -1\n",
      "state 2: ❘ 3 1 0 1 1 ⟩  ML: 1\n",
      "0.0 0.0 0\n",
      "----\n",
      "n,L,S,J,MJ\n",
      "state 1: ❘ 3 2 0 2 0 ⟩  ML: 0\n",
      "state 2: ❘ 3 1 0 1 -1 ⟩  ML: -1\n",
      "1.0 0.0 0.0333333333333333*sqrt(30)\n",
      "----\n",
      "n,L,S,J,MJ\n",
      "state 1: ❘ 3 2 0 2 0 ⟩  ML: 0\n",
      "state 2: ❘ 3 1 0 1 0 ⟩  ML: 0\n",
      "1.0 1.0 0\n",
      "----\n",
      "n,L,S,J,MJ\n",
      "state 1: ❘ 3 2 0 2 0 ⟩  ML: 0\n",
      "state 2: ❘ 3 1 0 1 1 ⟩  ML: 1\n",
      "1.0 0.0 0.0333333333333333*sqrt(30)\n",
      "----\n",
      "n,L,S,J,MJ\n",
      "state 1: ❘ 3 2 0 2 1 ⟩  ML: 1\n",
      "state 2: ❘ 3 1 0 1 -1 ⟩  ML: -1\n",
      "0.0 0.0 0\n",
      "----\n",
      "n,L,S,J,MJ\n",
      "state 1: ❘ 3 2 0 2 1 ⟩  ML: 1\n",
      "state 2: ❘ 3 1 0 1 0 ⟩  ML: 0\n",
      "0.0 1.0 -0.0577350269189626*sqrt(30)\n",
      "----\n",
      "n,L,S,J,MJ\n",
      "state 1: ❘ 3 2 0 2 1 ⟩  ML: 1\n",
      "state 2: ❘ 3 1 0 1 1 ⟩  ML: 1\n",
      "0.0 0.0 0\n",
      "----\n",
      "n,L,S,J,MJ\n",
      "state 1: ❘ 3 2 0 2 2 ⟩  ML: 2\n",
      "state 2: ❘ 3 1 0 1 -1 ⟩  ML: -1\n",
      "0.0 0.0 0\n",
      "----\n",
      "n,L,S,J,MJ\n",
      "state 1: ❘ 3 2 0 2 2 ⟩  ML: 2\n",
      "state 2: ❘ 3 1 0 1 0 ⟩  ML: 0\n",
      "0.0 1.0 0\n",
      "----\n",
      "n,L,S,J,MJ\n",
      "state 1: ❘ 3 2 0 2 2 ⟩  ML: 2\n",
      "state 2: ❘ 3 1 0 1 1 ⟩  ML: 1\n",
      "0.0 0.0 0.0816496580927726*sqrt(30)\n",
      "----\n",
      "n,L,S,J,MJ\n",
      "state 1: ❘ 3 1 0 1 -1 ⟩  ML: -1\n",
      "state 2: ❘ 3 0 0 0 0 ⟩  ML: 0\n",
      "0.0 1.0 -0.235702260395516*sqrt(3)\n",
      "----\n",
      "n,L,S,J,MJ\n",
      "state 1: ❘ 3 1 0 1 -1 ⟩  ML: -1\n",
      "state 2: ❘ 3 2 0 2 -2 ⟩  ML: -2\n",
      "0.0 0.0 0.0816496580927726*sqrt(30)\n",
      "----\n",
      "n,L,S,J,MJ\n",
      "state 1: ❘ 3 1 0 1 -1 ⟩  ML: -1\n",
      "state 2: ❘ 3 2 0 2 -1 ⟩  ML: -1\n",
      "0.0 0.0 0\n",
      "----\n",
      "n,L,S,J,MJ\n",
      "state 1: ❘ 3 1 0 1 -1 ⟩  ML: -1\n",
      "state 2: ❘ 3 2 0 2 0 ⟩  ML: 0\n",
      "0.0 1.0 0.0333333333333333*sqrt(30)\n",
      "----\n",
      "n,L,S,J,MJ\n",
      "state 1: ❘ 3 1 0 1 -1 ⟩  ML: -1\n",
      "state 2: ❘ 3 2 0 2 1 ⟩  ML: 1\n",
      "0.0 0.0 0\n",
      "----\n",
      "n,L,S,J,MJ\n",
      "state 1: ❘ 3 1 0 1 -1 ⟩  ML: -1\n",
      "state 2: ❘ 3 2 0 2 2 ⟩  ML: 2\n",
      "0.0 0.0 0\n",
      "----\n",
      "n,L,S,J,MJ\n",
      "state 1: ❘ 3 1 0 1 0 ⟩  ML: 0\n",
      "state 2: ❘ 3 0 0 0 0 ⟩  ML: 0\n",
      "1.0 1.0 0\n",
      "----\n",
      "n,L,S,J,MJ\n",
      "state 1: ❘ 3 1 0 1 0 ⟩  ML: 0\n",
      "state 2: ❘ 3 2 0 2 -2 ⟩  ML: -2\n",
      "1.0 0.0 0\n",
      "----\n",
      "n,L,S,J,MJ\n",
      "state 1: ❘ 3 1 0 1 0 ⟩  ML: 0\n",
      "state 2: ❘ 3 2 0 2 -1 ⟩  ML: -1\n",
      "1.0 0.0 -0.0577350269189626*sqrt(30)\n",
      "----\n",
      "n,L,S,J,MJ\n",
      "state 1: ❘ 3 1 0 1 0 ⟩  ML: 0\n",
      "state 2: ❘ 3 2 0 2 0 ⟩  ML: 0\n",
      "1.0 1.0 0\n",
      "----\n",
      "n,L,S,J,MJ\n",
      "state 1: ❘ 3 1 0 1 0 ⟩  ML: 0\n",
      "state 2: ❘ 3 2 0 2 1 ⟩  ML: 1\n",
      "1.0 0.0 -0.0577350269189626*sqrt(30)\n",
      "----\n",
      "n,L,S,J,MJ\n",
      "state 1: ❘ 3 1 0 1 0 ⟩  ML: 0\n",
      "state 2: ❘ 3 2 0 2 2 ⟩  ML: 2\n",
      "1.0 0.0 0\n",
      "----\n",
      "n,L,S,J,MJ\n",
      "state 1: ❘ 3 1 0 1 1 ⟩  ML: 1\n",
      "state 2: ❘ 3 0 0 0 0 ⟩  ML: 0\n",
      "0.0 1.0 -0.235702260395516*sqrt(3)\n",
      "----\n",
      "n,L,S,J,MJ\n",
      "state 1: ❘ 3 1 0 1 1 ⟩  ML: 1\n",
      "state 2: ❘ 3 2 0 2 -2 ⟩  ML: -2\n",
      "0.0 0.0 0\n",
      "----\n",
      "n,L,S,J,MJ\n",
      "state 1: ❘ 3 1 0 1 1 ⟩  ML: 1\n",
      "state 2: ❘ 3 2 0 2 -1 ⟩  ML: -1\n",
      "0.0 0.0 0\n",
      "----\n",
      "n,L,S,J,MJ\n",
      "state 1: ❘ 3 1 0 1 1 ⟩  ML: 1\n",
      "state 2: ❘ 3 2 0 2 0 ⟩  ML: 0\n",
      "0.0 1.0 0.0333333333333333*sqrt(30)\n",
      "----\n",
      "n,L,S,J,MJ\n",
      "state 1: ❘ 3 1 0 1 1 ⟩  ML: 1\n",
      "state 2: ❘ 3 2 0 2 1 ⟩  ML: 1\n",
      "0.0 0.0 0\n",
      "----\n",
      "n,L,S,J,MJ\n",
      "state 1: ❘ 3 1 0 1 1 ⟩  ML: 1\n",
      "state 2: ❘ 3 2 0 2 2 ⟩  ML: 2\n",
      "0.0 0.0 0.0816496580927726*sqrt(30)\n",
      "----\n",
      "0\n"
     ]
    }
   ],
   "source": [
    "q_arr   = [[0],\n",
    "           [1, -1]]\n",
    "tau_arr = [[1],\n",
    "           [(1./2)**0.5, (1./2)**0.5]]\n",
    "\n",
    "ol_para = []\n",
    "ol_perp = []\n",
    "\n",
    "states = Hamiltonian(n_min=3, n_max=3, S=0, MJ=None)\n",
    "for state_1 in states.basis:\n",
    "    for state_2 in states.basis:\n",
    "        delta_L = state_1.L - state_2.L\n",
    "        if abs(delta_L) == 1:\n",
    "            MS = [np.arange(-state_1.S, state_1.S + 1),\n",
    "                  np.arange(-state_2.S, state_2.S + 1)]\n",
    "            ML = [state_1.MJ - MS[0],\n",
    "                  state_2.MJ - MS[1]]\n",
    "            tmp = []\n",
    "            for ML_1 in ML[0]:\n",
    "                for ML_2 in ML[1]:\n",
    "                    ang_ol_para = []\n",
    "                    ang_ol_perp = []\n",
    "\n",
    "                    #ang_tmp = []\n",
    "                    #for q, tau in zip(q_arr[0], tau_arr[0]):\n",
    "                    #    ang_tmp.append(tau * float(wigner_3j(state_2_L, 1, state_1_L, -ML_2, q, ML_1)))\n",
    "                    \n",
    "                    ang_tmp = []\n",
    "                    for q, tau in zip(q_arr[1], tau_arr[1]):\n",
    "                        ang_tmp.append(tau * float(wigner_3j(state_2.L, 1, state_1.L, -ML_2, q, ML_1)))\n",
    "                \n",
    "                    ang_overlap_stark = ((2*state_2.L+1)*(2*state_1.L+1))**0.5 * \\\n",
    "                        np.sum(ang_tmp) * \\\n",
    "                        wigner_3j(state_2.L, 1, state_1.L, 0, 0, 0)\n",
    "                    tmp.append(float(clebsch_gordan(state_1.L, state_1.S, state_1.J,\n",
    "                                ML_1, state_1.MJ - ML_1, -state_1.MJ)) * \\\n",
    "                               float(clebsch_gordan(state_2.L, state_2.S, state_2.J,\n",
    "                                ML_2, state_2.MJ - ML_2, -state_2.MJ)) * \\\n",
    "                               ang_overlap_stark)\n",
    "                    #print('tmp[-1]:', tmp[-1])\n",
    "                    print('n,L,S,J,MJ')\n",
    "                    print('state 1:', state_1, ' ML:', ML_1)\n",
    "                    print('state 2:', state_2, ' ML:', ML_2)\n",
    "                    print(float(clebsch_gordan(state_1.L, state_1.S, state_1.J,\n",
    "                                ML_1, state_1.MJ - ML_1, -state_1.MJ)), \n",
    "                          float(clebsch_gordan(state_2.L, state_2.S, state_2.J,\n",
    "                                ML_2, state_2.MJ - ML_2, -state_2.MJ)),\n",
    "                         ang_overlap_stark)\n",
    "                    print('----')\n",
    "                    \n",
    "            ol_perp.append(np.sum(tmp))\n",
    "#print(np.sum(ang_ol_para))\n",
    "print(np.sum(ol_perp))"
   ]
  },
  {
   "cell_type": "code",
   "execution_count": 23,
   "metadata": {},
   "outputs": [
    {
     "data": {
      "text/plain": [
       "0.0"
      ]
     },
     "execution_count": 23,
     "metadata": {},
     "output_type": "execute_result"
    }
   ],
   "source": [
    "state_1_L, state_1_S, state_1_J = 2,0,2\n",
    "ML_1, state_1_MJ = 1,1\n",
    "float(wigner_3j(state_1_L, state_1_S, state_1_J,\n",
    "                     ML_1, state_1_MJ - ML_1, state_1_MJ))"
   ]
  },
  {
   "cell_type": "code",
   "execution_count": 79,
   "metadata": {},
   "outputs": [
    {
     "data": {
      "text/plain": [
       "-0.4472135954999579"
      ]
     },
     "execution_count": 79,
     "metadata": {},
     "output_type": "execute_result"
    }
   ],
   "source": [
    "float(clebsch_gordan(2, 2, 0,\n",
    "                     1, -1, 0))"
   ]
  },
  {
   "cell_type": "code",
   "execution_count": null,
   "metadata": {
    "collapsed": true
   },
   "outputs": [],
   "source": []
  },
  {
   "cell_type": "code",
   "execution_count": 5,
   "metadata": {},
   "outputs": [
    {
     "name": "stdout",
     "output_type": "stream",
     "text": [
      "[array([2]), array([2])]\n",
      "[array([0]), array([0])]\n",
      "[2]\n",
      "[1]\n"
     ]
    }
   ],
   "source": [
    "print(ML)\n",
    "print(MS)\n",
    "print(state_1_MJ_arr)\n",
    "print(state_2_MJ_arr)"
   ]
  },
  {
   "cell_type": "code",
   "execution_count": 20,
   "metadata": {},
   "outputs": [
    {
     "data": {
      "text/plain": [
       "0"
      ]
     },
     "execution_count": 20,
     "metadata": {},
     "output_type": "execute_result"
    }
   ],
   "source": [
    "ML_1"
   ]
  },
  {
   "cell_type": "code",
   "execution_count": null,
   "metadata": {
    "collapsed": true
   },
   "outputs": [],
   "source": []
  },
  {
   "cell_type": "code",
   "execution_count": 20,
   "metadata": {},
   "outputs": [
    {
     "name": "stdout",
     "output_type": "stream",
     "text": [
      "Using field orientation: perpendicular\n",
      "mat_s sum:  140.390706389\n",
      "Using field orientation: parallel\n",
      "mat_s sum:  914.039032816\n",
      "sm0 sum:  -662990.477429\n",
      "sm1 sum:  -662990.477429\n",
      "sm0[25] [-3695.66717287]\n",
      "sm1[25] [-3781.61858343]\n",
      "max (sm0-sm1):  217.067117569\n",
      "smo: [[-5112.39836424 -4964.3580713  -4964.3580713  -4723.29484736\n",
      "  -4635.37787041 -4527.91248726 -4510.57968611 -4510.57968611\n",
      "  -4510.57968611 -4510.57968611 -4510.57516499 -4510.57516499 -4510.5396949\n",
      "  -4443.59350562 -4394.12001081 -4394.12001081 -4394.12001081\n",
      "  -4394.12001081 -4394.12001081 -4394.12001081 -4394.11936958\n",
      "  -4394.11936958 -4394.11936958 -4394.11936958 -4394.11395017\n",
      "  -4394.10990972 -4394.10990972 -4390.15249109 -4390.15249109\n",
      "  -4390.15249109 -4390.15249109 -4390.15249109 -4390.15249109\n",
      "  -4390.14941219 -4390.14941219 -4390.14941219 -4390.14941219\n",
      "  -4390.14941219 -4390.14941219 -4390.14941219 -4390.14941219\n",
      "  -4390.14689168 -4390.14500129 -4390.14500129 -4390.14500129\n",
      "  -4390.14500129 -4389.65573863 -4389.65573863 -4389.65573863\n",
      "  -4389.65573863 -4389.65573863 -4389.65573863 -4389.65573863\n",
      "  -4389.65573863 -4389.65296776 -4389.65296776 -4389.65296776\n",
      "  -4389.65296776 -4389.65296776 -4389.65296776 -4389.65296776\n",
      "  -4389.65296776 -4389.65296776 -4389.65296776 -4389.65157079\n",
      "  -4389.65045284 -4389.65045284 -4389.65045284 -4389.65045284\n",
      "  -4389.65045284 -4389.65045284 -4340.52077816 -4305.54573473\n",
      "  -4160.57904003 -4154.90241771 -3695.66717287 -3486.54338148\n",
      "  -3385.70821578 -3375.01186079 -3375.01186079 -3256.34139745\n",
      "  -3118.35346133 -3118.35346133 -3118.35346133 -3118.35346133\n",
      "  -3118.35087628 -3118.35087628 -3118.33058665 -3109.71544699\n",
      "  -3051.01583488 -3051.01583488 -3051.01583488 -3051.01583488\n",
      "  -3051.01583488 -3051.01583488 -3051.01545639 -3051.01545639\n",
      "  -3051.01545639 -3051.01545639 -3051.01232744 -3051.00998916\n",
      "  -3051.00998916 -3048.66265423 -3048.66265423 -3048.66265423\n",
      "  -3048.66265423 -3048.66265423 -3048.66265423 -3048.6610493  -3048.6610493\n",
      "  -3048.6610493  -3048.6610493  -3048.6610493  -3048.6610493  -3048.6610493\n",
      "  -3048.6610493  -3048.65959119 -3048.65849745 -3048.65849745\n",
      "  -3048.65849745 -3048.65849745 -3048.36374766 -3048.36374766\n",
      "  -3048.36374766 -3048.36374766 -3048.36374766 -3048.36374766\n",
      "  -3048.36374766 -3048.36374766 -3048.3621456  -3048.3621456  -3048.3621456\n",
      "  -3048.3621456  -3048.3621456  -3048.3621456  -3048.3621456  -3048.3621456\n",
      "  -3048.3621456  -3048.3621456  -3048.3613363  -3048.36068869\n",
      "  -3048.36068869 -3048.36068869 -3048.36068869 -3048.36068869\n",
      "  -3048.36068869 -3048.29376946 -3048.29376946 -3048.29376946\n",
      "  -3048.29376946 -3048.29376946 -3048.29376946 -3048.29376946\n",
      "  -3048.29376946 -3048.29376946 -3048.29376946 -3048.29272514\n",
      "  -3048.29272514 -3048.29272514 -3048.29272514 -3048.29272514\n",
      "  -3048.29272514 -3048.29272514 -3048.29272514 -3048.29272514\n",
      "  -3048.29272514 -3048.29272514 -3048.29272514 -3048.29221848\n",
      "  -3048.29177725 -3048.29177725 -3048.29177725 -3048.29177725\n",
      "  -3048.29177725 -3048.29177725 -3048.29177725 -3048.29177725\n",
      "  -3047.87628079 -3004.66434916 -2858.51334033 -2821.49065592\n",
      "  -2638.22591273 -2628.83230375]]\n"
     ]
    }
   ],
   "source": [
    "# construct matrix\n",
    "mat0 = Hamiltonian(n_min=5, n_max=6, S=1, MJ=None)\n",
    "mat1 = Hamiltonian(n_min=5, n_max=6, S=1, MJ=None)\n",
    "\n",
    "# calculate Stark map\n",
    "stark_method='dev3'\n",
    "Bfield = 0.0\n",
    "Efield = np.linspace(3.5*10**5, 6.0*10**5, 1)  # V/cm\n",
    "sm0 = mat0.stark_map(Efield*1e2, Bfield=Bfield, \n",
    "                     stark_method=stark_method,\n",
    "                     Efield_vec=[1.0,0.0,0.0],\n",
    "                     tqdm_disable=True) / (100*h*c*mu_me)\n",
    "sm1 = mat1.stark_map(Efield*1e2, Bfield=Bfield, \n",
    "                     stark_method=stark_method,\n",
    "                     Efield_vec=[0.0,0.0,1.0],\n",
    "                     tqdm_disable=True) / (100*h*c*mu_me)\n",
    "print('sm0 sum: ', np.sum(sm0))\n",
    "print('sm1 sum: ', np.sum(sm1))\n",
    "print('sm0[25]', sm0[:,75])\n",
    "print('sm1[25]', sm1[:,75])\n",
    "print('max (sm0-sm1): ', np.max(sm0-sm1))\n",
    "print('smo:', sm0)"
   ]
  },
  {
   "cell_type": "code",
   "execution_count": 21,
   "metadata": {},
   "outputs": [
    {
     "data": {
      "text/plain": [
       "0.20483662259967567"
      ]
     },
     "execution_count": 21,
     "metadata": {},
     "output_type": "execute_result"
    }
   ],
   "source": [
    "float(wigner_3j(5, 1, 6, 0, 0, 0))"
   ]
  },
  {
   "cell_type": "code",
   "execution_count": 53,
   "metadata": {},
   "outputs": [
    {
     "data": {
      "text/plain": [
       "0.2760262237369417"
      ]
     },
     "execution_count": 53,
     "metadata": {},
     "output_type": "execute_result"
    }
   ],
   "source": [
    "float(wigner_3j(3, 1, 2,   -1, 0, 1))"
   ]
  },
  {
   "cell_type": "code",
   "execution_count": 9,
   "metadata": {},
   "outputs": [
    {
     "data": {
      "text/html": [
       "<div>\n",
       "<style>\n",
       "    .dataframe thead tr:only-child th {\n",
       "        text-align: right;\n",
       "    }\n",
       "\n",
       "    .dataframe thead th {\n",
       "        text-align: left;\n",
       "    }\n",
       "\n",
       "    .dataframe tbody tr th {\n",
       "        vertical-align: top;\n",
       "    }\n",
       "</style>\n",
       "<table border=\"1\" class=\"dataframe\">\n",
       "  <thead>\n",
       "    <tr style=\"text-align: right;\">\n",
       "      <th></th>\n",
       "      <th>Constant</th>\n",
       "      <th>Value</th>\n",
       "    </tr>\n",
       "  </thead>\n",
       "  <tbody>\n",
       "    <tr>\n",
       "      <th>0</th>\n",
       "      <td>speed of light in vacuum, $c$</td>\n",
       "      <td>299792458</td>\n",
       "    </tr>\n",
       "    <tr>\n",
       "      <th>1</th>\n",
       "      <td>Planks constant, $h$</td>\n",
       "      <td>6.62607004e-34</td>\n",
       "    </tr>\n",
       "    <tr>\n",
       "      <th>2</th>\n",
       "      <td>Reduced Planks constant, $\\hbar$</td>\n",
       "      <td>1.0545718e-34</td>\n",
       "    </tr>\n",
       "    <tr>\n",
       "      <th>3</th>\n",
       "      <td>Rydberg constant, $R_{\\infty}$</td>\n",
       "      <td>10973731.568508</td>\n",
       "    </tr>\n",
       "    <tr>\n",
       "      <th>4</th>\n",
       "      <td>electron charge, $e$</td>\n",
       "      <td>1.6021766208e-19</td>\n",
       "    </tr>\n",
       "    <tr>\n",
       "      <th>5</th>\n",
       "      <td>fine structure constant</td>\n",
       "      <td>0.0072973525664</td>\n",
       "    </tr>\n",
       "    <tr>\n",
       "      <th>6</th>\n",
       "      <td>permeability of free space, $\\mu_B$</td>\n",
       "      <td>1.66053904e-27</td>\n",
       "    </tr>\n",
       "    <tr>\n",
       "      <th>7</th>\n",
       "      <td>Hatree energy</td>\n",
       "      <td>4.3597446510117e-18</td>\n",
       "    </tr>\n",
       "    <tr>\n",
       "      <th>8</th>\n",
       "      <td>Bohr radius, $a_0$</td>\n",
       "      <td>5.2917721048e-11</td>\n",
       "    </tr>\n",
       "    <tr>\n",
       "      <th>9</th>\n",
       "      <td>Bohr magneton, $\\mu_B$</td>\n",
       "      <td>9.2740099908307e-24</td>\n",
       "    </tr>\n",
       "    <tr>\n",
       "      <th>10</th>\n",
       "      <td>ionization energy of helium</td>\n",
       "      <td>19831066.637</td>\n",
       "    </tr>\n",
       "    <tr>\n",
       "      <th>11</th>\n",
       "      <td>mass of helium</td>\n",
       "      <td>6.6464789651139e-27</td>\n",
       "    </tr>\n",
       "    <tr>\n",
       "      <th>12</th>\n",
       "      <td>mass of helium (a.u.)</td>\n",
       "      <td>4.00260325413</td>\n",
       "    </tr>\n",
       "    <tr>\n",
       "      <th>13</th>\n",
       "      <td>mass of helium core</td>\n",
       "      <td>6.6455680705889e-27</td>\n",
       "    </tr>\n",
       "    <tr>\n",
       "      <th>14</th>\n",
       "      <td>Reduced electron mass / electron mass</td>\n",
       "      <td>0.99986294422133</td>\n",
       "    </tr>\n",
       "    <tr>\n",
       "      <th>15</th>\n",
       "      <td>Reduced electron mass / core mass</td>\n",
       "      <td>0.00013705577867229</td>\n",
       "    </tr>\n",
       "    <tr>\n",
       "      <th>16</th>\n",
       "      <td>Rydberg constant for helium</td>\n",
       "      <td>10972227.555183</td>\n",
       "    </tr>\n",
       "  </tbody>\n",
       "</table>\n",
       "</div>"
      ],
      "text/plain": [
       "                                 Constant                Value\n",
       "0           speed of light in vacuum, $c$            299792458\n",
       "1                    Planks constant, $h$       6.62607004e-34\n",
       "2        Reduced Planks constant, $\\hbar$        1.0545718e-34\n",
       "3          Rydberg constant, $R_{\\infty}$      10973731.568508\n",
       "4                    electron charge, $e$     1.6021766208e-19\n",
       "5                 fine structure constant      0.0072973525664\n",
       "6     permeability of free space, $\\mu_B$       1.66053904e-27\n",
       "7                           Hatree energy  4.3597446510117e-18\n",
       "8                      Bohr radius, $a_0$     5.2917721048e-11\n",
       "9                  Bohr magneton, $\\mu_B$  9.2740099908307e-24\n",
       "10            ionization energy of helium         19831066.637\n",
       "11                         mass of helium  6.6464789651139e-27\n",
       "12                  mass of helium (a.u.)        4.00260325413\n",
       "13                    mass of helium core  6.6455680705889e-27\n",
       "14  Reduced electron mass / electron mass     0.99986294422133\n",
       "15      Reduced electron mass / core mass  0.00013705577867229\n",
       "16            Rydberg constant for helium      10972227.555183"
      ]
     },
     "execution_count": 9,
     "metadata": {},
     "output_type": "execute_result"
    }
   ],
   "source": [
    "constants_info()"
   ]
  },
  {
   "cell_type": "code",
   "execution_count": 22,
   "metadata": {
    "collapsed": true
   },
   "outputs": [],
   "source": []
  },
  {
   "cell_type": "code",
   "execution_count": 24,
   "metadata": {},
   "outputs": [
    {
     "data": {
      "text/plain": [
       "0"
      ]
     },
     "execution_count": 24,
     "metadata": {},
     "output_type": "execute_result"
    }
   ],
   "source": []
  },
  {
   "cell_type": "code",
   "execution_count": null,
   "metadata": {
    "collapsed": true
   },
   "outputs": [],
   "source": []
  }
 ],
 "metadata": {
  "kernelspec": {
   "display_name": "Python 3",
   "language": "python",
   "name": "python3"
  },
  "language_info": {
   "codemirror_mode": {
    "name": "ipython",
    "version": 3
   },
   "file_extension": ".py",
   "mimetype": "text/x-python",
   "name": "python",
   "nbconvert_exporter": "python",
   "pygments_lexer": "ipython3",
   "version": "3.6.1"
  }
 },
 "nbformat": 4,
 "nbformat_minor": 2
}
