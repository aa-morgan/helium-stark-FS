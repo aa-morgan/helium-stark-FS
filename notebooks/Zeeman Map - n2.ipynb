{
 "cells": [
  {
   "cell_type": "code",
   "execution_count": 1,
   "metadata": {
    "collapsed": true
   },
   "outputs": [],
   "source": [
    "%matplotlib inline"
   ]
  },
  {
   "cell_type": "markdown",
   "metadata": {},
   "source": [
    "This notebook reproduces \n",
    "\n",
    "> **Fig 2**: Pure Zeeman effect in the first excited states of positronium.\n",
    "\n",
    "from the article\n",
    "\n",
    "> #### Combined Zeeman and Motional Stark Effects in the First Excited State of Positroninm\n",
    ">\n",
    "> Stephen M. Curry\n",
    ">\n",
    "> *Phys. Rev. A*, **7** (2), 447 (1973) [DOI:10.1103/PhysRevA.7.447](https://doi.org/10.1103/PhysRevA.7.447)"
   ]
  },
  {
   "cell_type": "code",
   "execution_count": 6,
   "metadata": {
    "collapsed": true
   },
   "outputs": [],
   "source": [
    "# packages\n",
    "import os\n",
    "from functools import reduce\n",
    "import numpy as np\n",
    "import matplotlib.pyplot as plt\n",
    "from matplotlib import cm\n",
    "from psfs import Hamiltonian, En_h, h\n",
    "# https://github.com/ad3ller/Stark-map-tools\n",
    "from smtools import sm_sort, lc_cmap"
   ]
  },
  {
   "cell_type": "code",
   "execution_count": 10,
   "metadata": {},
   "outputs": [
    {
     "name": "stdout",
     "output_type": "stream",
     "text": [
      "number of basis states: 56\n"
     ]
    }
   ],
   "source": [
    "# construct matrix\n",
    "mat = Hamiltonian(n_min=1, n_max=3, MJ_max=None)\n",
    "print('number of basis states:', '%d'%mat.num_states)"
   ]
  },
  {
   "cell_type": "code",
   "execution_count": 8,
   "metadata": {
    "collapsed": true
   },
   "outputs": [],
   "source": [
    "# calculate Zeeman map\n",
    "Bfield = np.linspace(0, 0.7, 1000)  # T\n",
    "singlet_states = mat.where('S', 0)\n",
    "zm0, amp0 = mat.zeeman_map(Bfield, eig_amp=singlet_states, tqdm_disable=True)\n",
    "zm0, amp0 = sm_sort(zm0, amp0)\n",
    "# ensure 0 < amp0 < 1\n",
    "amp0 = np.clip(amp0, 0, 1)"
   ]
  },
  {
   "cell_type": "code",
   "execution_count": 15,
   "metadata": {},
   "outputs": [
    {
     "data": {
      "image/png": "[encoded data removed]",
      "text/plain": [
       "<matplotlib.figure.Figure at 0x117a02b70>"
      ]
     },
     "metadata": {},
     "output_type": "display_data"
    }
   ],
   "source": [
    "cmap = cm.jet\n",
    "# plot Zeeman map\n",
    "fig, ax = plt.subplots(figsize=(3.4, 6))\n",
    "\n",
    "yoffset = En_h / 16.0\n",
    "\n",
    "# plot\n",
    "ixs = mat.where('n', 2)\n",
    "for ix in ixs:\n",
    "    cs = cmap(amp0[:, ix], alpha=0.8)\n",
    "    lc = lc_cmap(1e3*Bfield, 1e-9*(zm0[:, ix] + yoffset) / h, cs)\n",
    "    lc.set_linewidth(1.5)\n",
    "    ax.add_collection(lc)\n",
    "\n",
    "# labels\n",
    "indx = reduce(np.intersect1d, (mat.where('n', 2),\n",
    "                               mat.where('MJ', 0)))\n",
    "lbl_adjust = [0.6, 0.6, -1.8, 0.6, 1.2, 0.6]\n",
    "for i, ix in enumerate(indx):\n",
    "    el = mat.basis[ix]\n",
    "    c = cmap(1.0) if el.S == 0 else cmap(0.0)\n",
    "    lbl = el.tex(show_MJ=False)\n",
    "    en = 1e-9*(el.E0 *En_h + yoffset)/h\n",
    "    ax.annotate(lbl, [-20, en + lbl_adjust[i]], size=8, color=c)\n",
    "\n",
    "# format\n",
    "ax.set_xlim(-40, np.max(Bfield)*1e3 + 40)\n",
    "ax.set_ylim(-30, 20)\n",
    "ax.set_ylabel('energy / $h$ (GHz)')\n",
    "ax.set_xlabel('magnetic field (mT)')\n",
    "\n",
    "# output\n",
    "fileout = os.path.join(\"../images/zeeman_n2.png\")\n",
    "plt.savefig(fileout, dpi=150, bbox_inches='tight')\n",
    "plt.show()"
   ]
  },
  {
   "cell_type": "code",
   "execution_count": null,
   "metadata": {
    "collapsed": true
   },
   "outputs": [],
   "source": []
  }
 ],
 "metadata": {
  "kernelspec": {
   "display_name": "Python 3",
   "language": "python",
   "name": "python3"
  },
  "language_info": {
   "codemirror_mode": {
    "name": "ipython",
    "version": 3
   },
   "file_extension": ".py",
   "mimetype": "text/x-python",
   "name": "python",
   "nbconvert_exporter": "python",
   "pygments_lexer": "ipython3",
   "version": "3.6.1"
  }
 },
 "nbformat": 4,
 "nbformat_minor": 2
}
