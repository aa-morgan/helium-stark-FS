{
 "cells": [
  {
   "cell_type": "code",
   "execution_count": null,
   "metadata": {
    "collapsed": true
   },
   "outputs": [],
   "source": [
    "from hsfs import Hamiltonian\n",
    "import numpy as np\n",
    "import os"
   ]
  },
  {
   "cell_type": "code",
   "execution_count": null,
   "metadata": {
    "collapsed": true
   },
   "outputs": [],
   "source": [
    "#Parameters to set\n",
    "n_min = 2\n",
    "n_max = 3\n",
    "\n",
    "Bfield=0.1\n",
    "Efield_vec=[1.0,0.0,0.0]\n",
    "Efield_mag=0.0\n",
    "\n",
    "matrices_dir = './'"
   ]
  },
  {
   "cell_type": "code",
   "execution_count": null,
   "metadata": {},
   "outputs": [],
   "source": [
    "S=None\n",
    "print(('n_min={}, n_max={}, S={}').format(n_min, n_max, S))\n",
    "mat0 = Hamiltonian(n_min=n_min, n_max=n_max, S=S)\n",
    "print('Number of basis states:', '%d'%mat0.num_states)\n",
    "\n",
    "s_t_coupling=True\n",
    "if Efield_vec == [0.0,0.0,1.0]:\n",
    "    field_orientation = 'para'\n",
    "elif Efield_vec[2] == 0.0:\n",
    "    field_orientation = 'perp'\n",
    "\n",
    "Efield = np.linspace(Efield_mag, Efield_mag, 1) # V /cm\n",
    "print('E_mag={}, E_vec={}, B={},S-T={}'.format(Efield_mag,Efield_vec,Bfield,s_t_coupling))\n",
    "sm0 = mat0.stark_map(Efield*1e2,  \n",
    "                     Efield_vec=Efield_vec,\n",
    "                     Bfield=Bfield,\n",
    "                     singlet_triplet_coupling=s_t_coupling,\n",
    "                     cache_matrices=False,\n",
    "                     load_matrices=True,\n",
    "                     save_matrices=False,\n",
    "                     matrices_dir=matrices_dir,\n",
    "                     tqdm_disable=False)"
   ]
  },
  {
   "cell_type": "code",
   "execution_count": null,
   "metadata": {},
   "outputs": [],
   "source": [
    "# Save Stark Map\n",
    "filename_ham = mat0.filename()\n",
    "filename_fields = 'E_mag={}_E_vec={}_B={}'.format(Efield_mag, field_orientation, Bfield)\n",
    "filename_full = filename_ham + '__' + filename_fields\n",
    "directory = matrices_dir\n",
    "filepath = os.path.join(directory, filename_full)\n",
    "print('Filepath={}.npy'.format(filepath))\n",
    "np.save(filepath, sm0)"
   ]
  },
  {
   "cell_type": "code",
   "execution_count": null,
   "metadata": {
    "collapsed": true
   },
   "outputs": [],
   "source": []
  }
 ],
 "metadata": {
  "kernelspec": {
   "display_name": "Python 3",
   "language": "python",
   "name": "python3"
  },
  "language_info": {
   "codemirror_mode": {
    "name": "ipython",
    "version": 3
   },
   "file_extension": ".py",
   "mimetype": "text/x-python",
   "name": "python",
   "nbconvert_exporter": "python",
   "pygments_lexer": "ipython3",
   "version": "3.6.1"
  }
 },
 "nbformat": 4,
 "nbformat_minor": 2
}
