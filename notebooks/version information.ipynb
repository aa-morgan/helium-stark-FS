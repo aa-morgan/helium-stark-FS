{
 "cells": [
  {
   "cell_type": "code",
   "execution_count": 1,
   "metadata": {
    "collapsed": true
   },
   "outputs": [],
   "source": [
    "%load_ext version_information"
   ]
  },
  {
   "cell_type": "code",
   "execution_count": 2,
   "metadata": {},
   "outputs": [
    {
     "data": {
      "application/json": {
       "Software versions": [
        {
         "module": "Python",
         "version": "3.6.1 64bit [MSC v.1900 64 bit (AMD64)]"
        },
        {
         "module": "IPython",
         "version": "5.3.0"
        },
        {
         "module": "OS",
         "version": "Windows 10 10.0.15063 SP0"
        },
        {
         "module": "attr",
         "version": "17.2.0"
        },
        {
         "module": "matplotlib",
         "version": "2.0.2"
        },
        {
         "module": "numba",
         "version": "0.33.0"
        },
        {
         "module": "numpy",
         "version": "1.12.1"
        },
        {
         "module": "scipy",
         "version": "0.19.0"
        },
        {
         "module": "sympy",
         "version": "1.0"
        },
        {
         "module": "tabulate",
         "version": "0.8.1"
        },
        {
         "module": "tqdm",
         "version": "4.15.0"
        },
        {
         "module": "version_information",
         "version": "1.0.3"
        }
       ]
      },
      "text/html": [
       "<table><tr><th>Software</th><th>Version</th></tr><tr><td>Python</td><td>3.6.1 64bit [MSC v.1900 64 bit (AMD64)]</td></tr><tr><td>IPython</td><td>5.3.0</td></tr><tr><td>OS</td><td>Windows 10 10.0.15063 SP0</td></tr><tr><td>attr</td><td>17.2.0</td></tr><tr><td>matplotlib</td><td>2.0.2</td></tr><tr><td>numba</td><td>0.33.0</td></tr><tr><td>numpy</td><td>1.12.1</td></tr><tr><td>scipy</td><td>0.19.0</td></tr><tr><td>sympy</td><td>1.0</td></tr><tr><td>tabulate</td><td>0.8.1</td></tr><tr><td>tqdm</td><td>4.15.0</td></tr><tr><td>version_information</td><td>1.0.3</td></tr><tr><td colspan='2'>Thu Oct 05 11:53:17 2017 GMT Daylight Time</td></tr></table>"
      ],
      "text/latex": [
       "\\begin{tabular}{|l|l|}\\hline\n",
       "{\\bf Software} & {\\bf Version} \\\\ \\hline\\hline\n",
       "Python & 3.6.1 64bit [MSC v.1900 64 bit (AMD64)] \\\\ \\hline\n",
       "IPython & 5.3.0 \\\\ \\hline\n",
       "OS & Windows 10 10.0.15063 SP0 \\\\ \\hline\n",
       "attr & 17.2.0 \\\\ \\hline\n",
       "matplotlib & 2.0.2 \\\\ \\hline\n",
       "numba & 0.33.0 \\\\ \\hline\n",
       "numpy & 1.12.1 \\\\ \\hline\n",
       "scipy & 0.19.0 \\\\ \\hline\n",
       "sympy & 1.0 \\\\ \\hline\n",
       "tabulate & 0.8.1 \\\\ \\hline\n",
       "tqdm & 4.15.0 \\\\ \\hline\n",
       "version_information & 1.0.3 \\\\ \\hline\n",
       "\\hline \\multicolumn{2}{|l|}{Thu Oct 05 11:53:17 2017 GMT Daylight Time} \\\\ \\hline\n",
       "\\end{tabular}\n"
      ],
      "text/plain": [
       "Software versions\n",
       "Python 3.6.1 64bit [MSC v.1900 64 bit (AMD64)]\n",
       "IPython 5.3.0\n",
       "OS Windows 10 10.0.15063 SP0\n",
       "attr 17.2.0\n",
       "matplotlib 2.0.2\n",
       "numba 0.33.0\n",
       "numpy 1.12.1\n",
       "scipy 0.19.0\n",
       "sympy 1.0\n",
       "tabulate 0.8.1\n",
       "tqdm 4.15.0\n",
       "version_information 1.0.3\n",
       "Thu Oct 05 11:53:17 2017 GMT Daylight Time"
      ]
     },
     "execution_count": 2,
     "metadata": {},
     "output_type": "execute_result"
    }
   ],
   "source": [
    "ver = %version_information attr, matplotlib, numba, numpy, scipy, sympy, tabulate, tqdm, version_information\n",
    "ver"
   ]
  },
  {
   "cell_type": "code",
   "execution_count": 3,
   "metadata": {},
   "outputs": [
    {
     "name": "stdout",
     "output_type": "stream",
     "text": [
      "===================  =======================================\n",
      "Python               3.6.1 64bit [MSC v.1900 64 bit (AMD64)]\n",
      "IPython              5.3.0\n",
      "OS                   Windows 10 10.0.15063 SP0\n",
      "attr                 17.2.0\n",
      "matplotlib           2.0.2\n",
      "numba                0.33.0\n",
      "numpy                1.12.1\n",
      "scipy                0.19.0\n",
      "sympy                1.0\n",
      "tabulate             0.8.1\n",
      "tqdm                 4.15.0\n",
      "version_information  1.0.3\n",
      "===================  =======================================\n"
     ]
    }
   ],
   "source": [
    "from tabulate import tabulate\n",
    "print(tabulate(ver.packages,  tablefmt='rst'))"
   ]
  },
  {
   "cell_type": "code",
   "execution_count": null,
   "metadata": {
    "collapsed": true
   },
   "outputs": [],
   "source": []
  }
 ],
 "metadata": {
  "kernelspec": {
   "display_name": "Python 3",
   "language": "python",
   "name": "python3"
  },
  "language_info": {
   "codemirror_mode": {
    "name": "ipython",
    "version": 3
   },
   "file_extension": ".py",
   "mimetype": "text/x-python",
   "name": "python",
   "nbconvert_exporter": "python",
   "pygments_lexer": "ipython3",
   "version": "3.6.1"
  }
 },
 "nbformat": 4,
 "nbformat_minor": 2
}
