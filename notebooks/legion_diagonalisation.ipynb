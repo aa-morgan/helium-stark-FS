{
 "cells": [
  {
   "cell_type": "code",
   "execution_count": 1,
   "metadata": {
    "collapsed": true
   },
   "outputs": [],
   "source": [
    "from hsfs import Hamiltonian\n",
    "import numpy as np\n",
    "import os"
   ]
  },
  {
   "cell_type": "code",
   "execution_count": 4,
   "metadata": {
    "collapsed": true
   },
   "outputs": [],
   "source": [
    "#Parameters to set. Make sure there is no space between '=' sign, and an '_' before the variable name\n",
    "_n_min=6\n",
    "_n_max=7\n",
    "_S=1\n",
    "\n",
    "_Efield=0.0\n",
    "_field_angle=90.0\n",
    "_Bfield=0.1\n",
    "\n",
    "_matrices_dir='saved_matrices'"
   ]
  },
  {
   "cell_type": "code",
   "execution_count": 7,
   "metadata": {},
   "outputs": [
    {
     "name": "stderr",
     "output_type": "stream",
     "text": [
      "diagonalise Hamiltonian: 100%|██████████| 1/1 [00:00<00:00, 129.80it/s]"
     ]
    },
    {
     "name": "stdout",
     "output_type": "stream",
     "text": [
      "n_min=6, n_max=7, S=1\n",
      "Number of basis states: 255\n",
      "E=0.0, B=0.1, angle=90.0\n",
      "Loaded 'zeeman' matrix from, \n",
      "\t ./saved_matrices/zeeman_n=6-7_L_max=None_S=1_MJ=None_MJ_max=None.npz\n",
      "Loaded 'stark' matrix from, \n",
      "\t ./saved_matrices/stark_n=6-7_L_max=None_S=1_MJ=None_MJ_max=None_angle=90.0.npz\n"
     ]
    },
    {
     "name": "stderr",
     "output_type": "stream",
     "text": [
      "\n"
     ]
    }
   ],
   "source": [
    "print(('n_min={}, n_max={}, S={}').format(_n_min, _n_max, _S))\n",
    "ham0 = Hamiltonian(n_min=_n_min, n_max=_n_max, S=_S)\n",
    "print('Number of basis states:', '%d'%ham0.num_states)\n",
    "\n",
    "Efield = np.linspace(_Efield, _Efield, 1) # V /cm\n",
    "print('E={}, B={}, angle={}'.format(_Efield, _Bfield, _field_angle))\n",
    "sm0 = ham0.stark_map(Efield*1e2, Bfield=_Bfield, \n",
    "                     field_angle=_field_angle, \n",
    "                     cache_matrices=False,\n",
    "                     load_matrices=True,\n",
    "                     save_matrices=True,\n",
    "                     matrices_dir=_matrices_dir)"
   ]
  },
  {
   "cell_type": "code",
   "execution_count": 5,
   "metadata": {},
   "outputs": [
    {
     "name": "stdout",
     "output_type": "stream",
     "text": [
      "Filepath=./saved_matrices/starkMap_n=4-5_L_max=None_S=None_MJ=None_MJ_max=None__E=0.0_B=0.1_angle=0.0.npz\n"
     ]
    }
   ],
   "source": [
    "# Save Stark Map\n",
    "filename_ham = ham0.filename()\n",
    "filename_fields = 'E={}_B={}_angle={}'.format(_Efield, _Bfield, _field_angle)\n",
    "filename_full = 'starkMap_{}__{}'.format(filename_ham, filename_fields)\n",
    "filepath = os.path.join('.', _matrices_dir, filename_full)\n",
    "print('Filepath={}.npz'.format(filepath))\n",
    "np.savez_compressed(filepath, matrix=sm0)"
   ]
  },
  {
   "cell_type": "code",
   "execution_count": null,
   "metadata": {
    "collapsed": true
   },
   "outputs": [],
   "source": []
  }
 ],
 "metadata": {
  "kernelspec": {
   "display_name": "Python 3",
   "language": "python",
   "name": "python3"
  },
  "language_info": {
   "codemirror_mode": {
    "name": "ipython",
    "version": 3
   },
   "file_extension": ".py",
   "mimetype": "text/x-python",
   "name": "python",
   "nbconvert_exporter": "python",
   "pygments_lexer": "ipython3",
   "version": "3.6.1"
  }
 },
 "nbformat": 4,
 "nbformat_minor": 2
}
