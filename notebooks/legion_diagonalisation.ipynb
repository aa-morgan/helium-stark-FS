{
 "cells": [
  {
   "cell_type": "code",
   "execution_count": 1,
   "metadata": {
    "collapsed": true
   },
   "outputs": [],
   "source": [
    "from hsfs import Hamiltonian\n",
    "import numpy as np\n",
    "import os"
   ]
  },
  {
   "cell_type": "code",
   "execution_count": 2,
   "metadata": {
    "collapsed": true
   },
   "outputs": [],
   "source": [
    "#Parameters to set. Make sure there is no space between '=' sign.\n",
    "_n_min=4\n",
    "_n_max=5\n",
    "\n",
    "_Efield_mag=0.0\n",
    "_Efield_vec=[1.0,0.0,0.0]\n",
    "_Bfield=0.1\n",
    "\n",
    "_matrices_dir='./saved_matrices/'"
   ]
  },
  {
   "cell_type": "code",
   "execution_count": 10,
   "metadata": {},
   "outputs": [
    {
     "name": "stderr",
     "output_type": "stream",
     "text": [
      "diagonalise Hamiltonian: 100%|██████████| 1/1 [00:00<00:00, 101.13it/s]"
     ]
    },
    {
     "name": "stdout",
     "output_type": "stream",
     "text": [
      "n_min=4, n_max=5, S=None\n",
      "Number of basis states: 164\n",
      "E_mag=0.0, E_vec=[1.0, 0.0, 0.0], B=0.1,S-T=True\n",
      "Field orientation: perpendicular\n",
      "Loaded zeeman matrix from, \n",
      "\t ./saved_matrices/zeeman_n=4-5_l_max=None_S=None_MJ=None_MJ_max=None.npz\n",
      "Loaded spin-orbit matrix from, \n",
      "\t ./saved_matrices/spin-orbit_n=4-5_l_max=None_S=None_MJ=None_MJ_max=None.npz\n",
      "Loaded stark matrix from, \n",
      "\t ./saved_matrices/stark_n=4-5_l_max=None_S=None_MJ=None_MJ_max=None_perpendicular.npz\n"
     ]
    },
    {
     "name": "stderr",
     "output_type": "stream",
     "text": [
      "\n"
     ]
    }
   ],
   "source": [
    "S=None\n",
    "print(('n_min={}, n_max={}, S={}').format(_n_min, _n_max, S))\n",
    "mat0 = Hamiltonian(n_min=_n_min, n_max=_n_max, S=S)\n",
    "print('Number of basis states:', '%d'%mat0.num_states)\n",
    "\n",
    "use_spin_orbit=True\n",
    "if _Efield_vec == [0.0,0.0,1.0]:\n",
    "    field_orientation = 'para'\n",
    "elif _Efield_vec[2] == 0.0:\n",
    "    field_orientation = 'perp'\n",
    "\n",
    "Efield = np.linspace(_Efield_mag, _Efield_mag, 1) # V /cm\n",
    "print('E_mag={}, E_vec={}, B={},S-T={}'.format(_Efield_mag,_Efield_vec,_Bfield,use_spin_orbit))\n",
    "sm0 = mat0.stark_map(Efield*1e2, Bfield=_Bfield, \n",
    "                     Efield_vec=_Efield_vec, \n",
    "                     cache_matrices=False,\n",
    "                     load_matrices=True,\n",
    "                     save_matrices=False,\n",
    "                     matrices_dir=_matrices_dir,\n",
    "                     tqdm_disable=False)"
   ]
  },
  {
   "cell_type": "code",
   "execution_count": 11,
   "metadata": {},
   "outputs": [
    {
     "name": "stdout",
     "output_type": "stream",
     "text": [
      "Filepath=./saved_matrices/starkMap_n=4-5_l_max=None_S=None_MJ=None_MJ_max=None__E_mag=0.0_E_vec=perp_B=0.1.npz\n"
     ]
    }
   ],
   "source": [
    "# Save Stark Map\n",
    "filename_ham = mat0.filename()\n",
    "filename_fields = 'E_mag={}_E_vec={}_B={}'.format(_Efield_mag, field_orientation, _Bfield)\n",
    "filename_full = 'starkMap_' + filename_ham + '__' + filename_fields\n",
    "directory = _matrices_dir\n",
    "filepath = os.path.join(directory, filename_full)\n",
    "print('Filepath={}.npz'.format(filepath))\n",
    "np.savez_compressed(filepath, matrix=sm0)"
   ]
  },
  {
   "cell_type": "code",
   "execution_count": null,
   "metadata": {
    "collapsed": true
   },
   "outputs": [],
   "source": []
  }
 ],
 "metadata": {
  "kernelspec": {
   "display_name": "Python 3",
   "language": "python",
   "name": "python3"
  },
  "language_info": {
   "codemirror_mode": {
    "name": "ipython",
    "version": 3
   },
   "file_extension": ".py",
   "mimetype": "text/x-python",
   "name": "python",
   "nbconvert_exporter": "python",
   "pygments_lexer": "ipython3",
   "version": "3.6.1"
  }
 },
 "nbformat": 4,
 "nbformat_minor": 2
}
